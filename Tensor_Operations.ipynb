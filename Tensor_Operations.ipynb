{
  "nbformat": 4,
  "nbformat_minor": 0,
  "metadata": {
    "colab": {
      "provenance": [],
      "gpuType": "T4",
      "authorship_tag": "ABX9TyNIBLNkxzpOT2kGm1BxC1rV",
      "include_colab_link": true
    },
    "kernelspec": {
      "name": "python3",
      "display_name": "Python 3"
    },
    "language_info": {
      "name": "python"
    },
    "accelerator": "GPU"
  },
  "cells": [
    {
      "cell_type": "markdown",
      "metadata": {
        "id": "view-in-github",
        "colab_type": "text"
      },
      "source": [
        "<a href=\"https://colab.research.google.com/github/InduwaraGayashan001/PyTorch/blob/main/Tensor_Operations.ipynb\" target=\"_parent\"><img src=\"https://colab.research.google.com/assets/colab-badge.svg\" alt=\"Open In Colab\"/></a>"
      ]
    },
    {
      "cell_type": "markdown",
      "source": [
        "# Setup"
      ],
      "metadata": {
        "id": "HoXLK0Zcgp5Y"
      }
    },
    {
      "cell_type": "code",
      "execution_count": 1,
      "metadata": {
        "colab": {
          "base_uri": "https://localhost:8080/"
        },
        "id": "sPW6WoGJcyLM",
        "outputId": "59d917b8-f858-4c8a-f494-37af27738ce3"
      },
      "outputs": [
        {
          "output_type": "stream",
          "name": "stdout",
          "text": [
            "\u001b[2K   \u001b[90m━━━━━━━━━━━━━━━━━━━━━━━━━━━━━━━━━━━━━━━━\u001b[0m \u001b[32m363.4/363.4 MB\u001b[0m \u001b[31m4.4 MB/s\u001b[0m eta \u001b[36m0:00:00\u001b[0m\n",
            "\u001b[2K   \u001b[90m━━━━━━━━━━━━━━━━━━━━━━━━━━━━━━━━━━━━━━━━\u001b[0m \u001b[32m13.8/13.8 MB\u001b[0m \u001b[31m45.6 MB/s\u001b[0m eta \u001b[36m0:00:00\u001b[0m\n",
            "\u001b[2K   \u001b[90m━━━━━━━━━━━━━━━━━━━━━━━━━━━━━━━━━━━━━━━━\u001b[0m \u001b[32m24.6/24.6 MB\u001b[0m \u001b[31m48.6 MB/s\u001b[0m eta \u001b[36m0:00:00\u001b[0m\n",
            "\u001b[2K   \u001b[90m━━━━━━━━━━━━━━━━━━━━━━━━━━━━━━━━━━━━━━━━\u001b[0m \u001b[32m883.7/883.7 kB\u001b[0m \u001b[31m37.8 MB/s\u001b[0m eta \u001b[36m0:00:00\u001b[0m\n",
            "\u001b[2K   \u001b[90m━━━━━━━━━━━━━━━━━━━━━━━━━━━━━━━━━━━━━━━━\u001b[0m \u001b[32m664.8/664.8 MB\u001b[0m \u001b[31m1.3 MB/s\u001b[0m eta \u001b[36m0:00:00\u001b[0m\n",
            "\u001b[2K   \u001b[90m━━━━━━━━━━━━━━━━━━━━━━━━━━━━━━━━━━━━━━━━\u001b[0m \u001b[32m211.5/211.5 MB\u001b[0m \u001b[31m6.0 MB/s\u001b[0m eta \u001b[36m0:00:00\u001b[0m\n",
            "\u001b[2K   \u001b[90m━━━━━━━━━━━━━━━━━━━━━━━━━━━━━━━━━━━━━━━━\u001b[0m \u001b[32m56.3/56.3 MB\u001b[0m \u001b[31m11.2 MB/s\u001b[0m eta \u001b[36m0:00:00\u001b[0m\n",
            "\u001b[2K   \u001b[90m━━━━━━━━━━━━━━━━━━━━━━━━━━━━━━━━━━━━━━━━\u001b[0m \u001b[32m127.9/127.9 MB\u001b[0m \u001b[31m7.9 MB/s\u001b[0m eta \u001b[36m0:00:00\u001b[0m\n",
            "\u001b[2K   \u001b[90m━━━━━━━━━━━━━━━━━━━━━━━━━━━━━━━━━━━━━━━━\u001b[0m \u001b[32m207.5/207.5 MB\u001b[0m \u001b[31m5.0 MB/s\u001b[0m eta \u001b[36m0:00:00\u001b[0m\n",
            "\u001b[2K   \u001b[90m━━━━━━━━━━━━━━━━━━━━━━━━━━━━━━━━━━━━━━━━\u001b[0m \u001b[32m21.1/21.1 MB\u001b[0m \u001b[31m62.5 MB/s\u001b[0m eta \u001b[36m0:00:00\u001b[0m\n",
            "\u001b[?25h"
          ]
        }
      ],
      "source": [
        "!pip install -q torchviz"
      ]
    },
    {
      "cell_type": "code",
      "source": [
        "!wget -q \"https://learnopencv.com/wp-content/uploads/2024/07/mnist_0.jpg\" -O \"mnist_0.jpg\"\n",
        "!wget -q \"https://learnopencv.com/wp-content/uploads/2024/07/mnist_1.jpg\" -O \"mnist_1.jpg\""
      ],
      "metadata": {
        "id": "Nd7J_vrog8PR"
      },
      "execution_count": 2,
      "outputs": []
    },
    {
      "cell_type": "code",
      "source": [
        "import torch\n",
        "import matplotlib.pyplot as plt\n",
        "import numpy as np\n",
        "import cv2"
      ],
      "metadata": {
        "id": "Ok2Id-ithAgF"
      },
      "execution_count": 3,
      "outputs": []
    },
    {
      "cell_type": "code",
      "source": [
        "print(\"torch version : {}\".format(torch.__version__))"
      ],
      "metadata": {
        "colab": {
          "base_uri": "https://localhost:8080/"
        },
        "id": "ckkWHmt1hHLu",
        "outputId": "94a9e922-4bfb-45b6-ee8e-afe6a6b46d48"
      },
      "execution_count": 4,
      "outputs": [
        {
          "output_type": "stream",
          "name": "stdout",
          "text": [
            "torch version : 2.6.0+cu124\n"
          ]
        }
      ]
    },
    {
      "cell_type": "markdown",
      "source": [
        "# Converting Images to Batched Tensors"
      ],
      "metadata": {
        "id": "It99lRqfiByB"
      }
    },
    {
      "cell_type": "code",
      "source": [
        "digit_0_array_og = cv2.imread(\"mnist_0.jpg\")\n",
        "digit_1_array_og = cv2.imread(\"mnist_1.jpg\")\n",
        "\n",
        "digit_0_array_gray = cv2.imread(\"mnist_0.jpg\",cv2.IMREAD_GRAYSCALE )\n",
        "digit_1_array_gray = cv2.imread(\"mnist_1.jpg\",cv2.IMREAD_GRAYSCALE )\n",
        "\n",
        "# Visualize the image\n",
        "\n",
        "fig, axs = plt.subplots(1,2, figsize=(10,5))\n",
        "\n",
        "\n",
        "axs[0].imshow(digit_0_array_og, cmap='gray',interpolation='none')\n",
        "axs[0].set_title(\"Digit 0 Image\")\n",
        "axs[0].axis('off')\n",
        "\n",
        "axs[1].imshow(digit_1_array_og, cmap=\"gray\", interpolation = 'none')\n",
        "axs[1].set_title(\"Digit 1 Image\")\n",
        "axs[1].axis('off')\n",
        "\n",
        "plt.show()"
      ],
      "metadata": {
        "colab": {
          "base_uri": "https://localhost:8080/",
          "height": 329
        },
        "id": "EBs0r6mtiIYc",
        "outputId": "d2b3914e-2e55-488e-8f19-3a5318319d48"
      },
      "execution_count": 5,
      "outputs": [
        {
          "output_type": "display_data",
          "data": {
            "text/plain": [
              "<Figure size 1000x500 with 2 Axes>"
            ],
            "image/png": "[encoded data removed]"
          },
          "metadata": {}
        }
      ]
    },
    {
      "cell_type": "code",
      "source": [
        "print(\"Image array shape: \",digit_0_array_og.shape)\n",
        "print(f\"Min pixel value:{np.min(digit_0_array_og)} ; Max pixel value : {np.max(digit_0_array_og)}\")\n"
      ],
      "metadata": {
        "colab": {
          "base_uri": "https://localhost:8080/"
        },
        "id": "KPaaurMSiehT",
        "outputId": "18c82945-0baf-4216-99ad-f53d972c30e0"
      },
      "execution_count": 6,
      "outputs": [
        {
          "output_type": "stream",
          "name": "stdout",
          "text": [
            "Image array shape:  (28, 28, 3)\n",
            "Min pixel value:0 ; Max pixel value : 255\n"
          ]
        }
      ]
    },
    {
      "cell_type": "code",
      "source": [
        "digit_0_array_gray"
      ],
      "metadata": {
        "colab": {
          "base_uri": "https://localhost:8080/",
          "height": 68
        },
        "id": "MXrd86pyig1Q",
        "outputId": "d9877fe0-448a-4e7c-8d2f-0cb05d06dc24"
      },
      "execution_count": 7,
      "outputs": [
        {
          "output_type": "execute_result",
          "data": {
            "text/plain": [
              "array([[  0,   0,   0,   0,   7,   1,   0,   3,   0,  18,   0,   3,   0,\n",
              "          0,   3,   0,   0,   9,   0,   2,   0,  11,   0,   1,   0,   0,\n",
              "          0,   0],\n",
              "       [  0,   7,   7,   0,   0,   0,   0,   0,   2,   8,   0,   4,   0,\n",
              "          0,   0,   6,   4,   0,   2,   3,   2,   0,   0,  11,   0,   0,\n",
              "          0,   0],\n",
              "       [  1,   0,   2,   6,   4,   9,   9,   0,   0,   2,   0,   3,   1,\n",
              "         15,   0,   2,  16,   0,   2,   7,   0,   0,  22,   0,   0,   0,\n",
              "          0,   0],\n",
              "       [ 12,   0,   0,   8,   1,   0,   0,   0,   2,   0,   0,   0,   0,\n",
              "         14,   0,   0,   0,   7,   9,   0,   7,   0,   0,   0,   0,   0,\n",
              "          0,   0],\n",
              "       [  0,   0,   3,   5,   0,   0,   4,  16,   0,  10,  14,   6,  29,\n",
              "        122, 182, 255, 255, 152,  66,  26,   0,   0,  15,   0,   0,   0,\n",
              "          0,   0],\n",
              "       [  0,   7,   5,   0,   9,  12,   0,   0,   4,   0,  49, 184, 255,\n",
              "        255, 232, 255, 255, 231, 246, 227,  64,   0,   0,   4,   0,   0,\n",
              "          0,   0],\n",
              "       [  2,  15,   0,   0,   6,   0,   0,  13,   6, 148, 241, 255, 248,\n",
              "        236, 194, 151, 192, 253, 252, 244, 231, 121,   5,   6,   0,   0,\n",
              "          0,   0],\n",
              "       [  0,   7,   0,   0,   7,   0,  51, 191, 223, 254, 247, 248, 148,\n",
              "         30,   0,   6,  24,   0,  32, 116, 235, 255, 166,   0,   0,   0,\n",
              "          0,   0],\n",
              "       [  0,   4,   0,   0,  10,   0, 132, 246, 255, 247, 199,  77,   0,\n",
              "          0,   2,   0,   0,   7,   0,   0,  60, 238, 226,  46,   2,   0,\n",
              "          1,   5],\n",
              "       [  0,   0,   4,   0,  14,  59, 203, 255, 255, 201,  45,   1,  15,\n",
              "          0,   0,   1,   0,   4,   2,   0,   0, 137, 246, 169,   7,   0,\n",
              "          0,   4],\n",
              "       [  2,   0,   9,   0,   4, 127, 252, 252, 198,  32,   0,   0,   0,\n",
              "          5,   0,   3,   4,   0,   0,   1,   5,  78, 255, 222,  16,   1,\n",
              "          0,   3],\n",
              "       [  5,   0,   8,   0,   0, 150, 254, 247,  46,   7,   0,   8,   9,\n",
              "          0,   4,   3,   3,   0,   0,   4,   0,  19, 248, 254,  25,   4,\n",
              "          0,   2],\n",
              "       [  0,   1,   2,   0,   1, 150, 246, 255,  17,   9,   0,   4,   0,\n",
              "          0,   9,   0,   0,   0,   0,   6,   0,  46, 254, 255,  30,   5,\n",
              "          0,   2],\n",
              "       [  0,   1,   0,   0,   6, 139, 241, 251,  43,   0,  15,   6,   0,\n",
              "          9,   7,   0,   0,   0,   0,   3,  19, 120, 255, 240,  31,   5,\n",
              "          0,   3],\n",
              "       [  2,   0,   0,   2,   1, 133, 249, 197,   0,  27,   0,   0,  18,\n",
              "          0,   0,   8,   0,   7,   1,   0,   0, 153, 245, 255,  29,   3,\n",
              "          0,   5],\n",
              "       [  6,   0,   0,   4,   0, 142, 255, 156,   1,   0,   4,   0,   0,\n",
              "          6,   0,   0,   0,   3,   0,  10,  45, 245, 255, 250,  26,   2,\n",
              "          0,   6],\n",
              "       [  0,   0,   0,   0,   5, 152, 239,  63,   0,  14,   0,   4,   0,\n",
              "          1,   8,   0,   9,   0,   0,   5, 236, 255, 255, 152,   0,   0,\n",
              "          0,   0],\n",
              "       [  0,   9,  11,   0,   1, 126, 255,  59,   0,   1,   0,   5,   0,\n",
              "          1,   2,   0,   0,   0,  27, 169, 255, 247, 217,  26,   0,   0,\n",
              "          0,   0],\n",
              "       [  0,   0,   2,   0,  25,  97, 248,  83,   7,   0,   6,   0,   1,\n",
              "          0,   0,   0,   5,  47, 171, 255, 243, 255, 148,   0,   0,   0,\n",
              "          0,   0],\n",
              "       [  2,   0,  10,   0,   0,  13, 219, 255,  15,   0,  11,   0,   9,\n",
              "          6,   0,   7,  97, 239, 249, 243, 255, 163,  46,   0,   0,   0,\n",
              "          0,   0],\n",
              "       [ 15,   0,   0,   2,   6,   0, 100, 232, 246, 166, 104,  24,  32,\n",
              "         72, 128, 180, 245, 247, 255, 255, 174,   4,   0,   0,   0,   0,\n",
              "          0,   0],\n",
              "       [  0,   0,   8,   3,   0,   2,  63, 226, 254, 248, 255, 246, 255,\n",
              "        255, 255, 255, 255, 255, 237,  88,  13,  13,   0,  17,   0,   0,\n",
              "          0,   0],\n",
              "       [  0,   2,   0,   0,   0,   0,   0,  18, 199, 235, 250, 255, 255,\n",
              "        255, 255, 242, 255, 169,  43,  18,   0,   0,  11,   0,   0,   0,\n",
              "          0,   0],\n",
              "       [  2,   5,   0,   4,   1,   5,   8,   0,   9, 104, 169, 241, 248,\n",
              "        255, 247, 220,  95,  10,   7,   0,   0,   0,   0,   0,   0,   0,\n",
              "          0,   0],\n",
              "       [  0,   0,   0,   0,   0,   0,   0,   0,   0,   0,   0,   0,   0,\n",
              "          0,   0,   0,   0,   0,   0,   0,   0,   0,   0,   0,   0,   0,\n",
              "          0,   0],\n",
              "       [  0,   0,   0,   0,   0,   0,   0,   0,   0,   0,   0,   0,   0,\n",
              "          0,   0,   0,   0,   0,   0,   0,   0,   0,   0,   0,   0,   0,\n",
              "          0,   0],\n",
              "       [  0,   0,   0,   0,   0,   0,   0,   0,   0,   0,   0,   0,   0,\n",
              "          0,   0,   0,   0,   0,   0,   0,   0,   0,   0,   0,   0,   0,\n",
              "          0,   0],\n",
              "       [  0,   0,   0,   0,   0,   0,   0,   0,   0,   0,   0,   0,   0,\n",
              "          0,   0,   0,   0,   0,   0,   0,   0,   0,   0,   0,   0,   0,\n",
              "          0,   0]], dtype=uint8)"
            ],
            "text/html": [
              "<style>\n",
              "      .ndarray_repr .ndarray_raw_data {\n",
              "        display: none;\n",
              "      }\n",
              "      .ndarray_repr.show_array .ndarray_raw_data {\n",
              "        display: block;\n",
              "      }\n",
              "      .ndarray_repr.show_array .ndarray_image_preview {\n",
              "        display: none;\n",
              "      }\n",
              "      </style>\n",
              "      <div id=\"id-e9367cb3-7733-44f0-b507-689002bfe005\" class=\"ndarray_repr\"><pre>ndarray (28, 28) <button style=\"padding: 0 2px;\">show data</button></pre><img src=\"data:image/png;base64,iVBORw0KGgoAAAANSUhEUgAAABwAAAAcCAAAAABXZoBIAAAB5ElEQVR4nMWSv2sUURSFv3fnvXnzdrM7cQOSZFHWWhIRywgRKxG0sbEQJGCRP8BGC7WwsQ+aXggsgpWInWJhUGsRURQSJIH8Yo3ZmezOzrXYjfgfeNvD+biccwDwhogGEUQQEKoYAPAeAEmwQGyRSKAKgEFiGwIIkUmRccTD8aFxDBIDCEAd8IEhC4DIgR2nUo9P3H2punxxGtKR5h1hDCxnX6luqm501y+AHT6SQgy1eKmj+fbbJ28Gxe+NOy4eOcFz7vWPMsuXThJP0rq9pSsjrIUKD7uarV4BAQ/nd9dmBeMAS33uo+r7GZOCwQo86rY9WISAvV8U71qAI7Jg3FX9Pm6IcCTwuMxmPUnARhFYJvJyyiK2b3oY8rAuFAUuA4RmbJwBgRJ30C+ms1QIJcBg4rLpGDAiivR7yYdPzU6vkR0meDPYOdVNyxIRC6Ih/mx+WnZjcgqtzNyo9Ac6qs0t781Tx2ISArht1eVhCKGKuadzGBxGgGZbsy/To4iEqYX8mifGAO7MM93XpSOpArWvmlIlxPiFvcN9fTo7FFOQmFub3ZXFydalBy8OMtXn9m/ZSYTMr5W5dlVVVXeu12ocO+ICNFa3eqqqv7R9unG0L8RhjUsIi+1Ortm3m5V/FvQf7g9SnKBxm+913QAAAABJRU5ErkJggg==\" class=\"ndarray_image_preview\" /><pre class=\"ndarray_raw_data\">array([[  0,   0,   0,   0,   7,   1,   0,   3,   0,  18,   0,   3,   0,\n",
              "          0,   3,   0,   0,   9,   0,   2,   0,  11,   0,   1,   0,   0,\n",
              "          0,   0],\n",
              "       [  0,   7,   7,   0,   0,   0,   0,   0,   2,   8,   0,   4,   0,\n",
              "          0,   0,   6,   4,   0,   2,   3,   2,   0,   0,  11,   0,   0,\n",
              "          0,   0],\n",
              "       [  1,   0,   2,   6,   4,   9,   9,   0,   0,   2,   0,   3,   1,\n",
              "         15,   0,   2,  16,   0,   2,   7,   0,   0,  22,   0,   0,   0,\n",
              "          0,   0],\n",
              "       [ 12,   0,   0,   8,   1,   0,   0,   0,   2,   0,   0,   0,   0,\n",
              "         14,   0,   0,   0,   7,   9,   0,   7,   0,   0,   0,   0,   0,\n",
              "          0,   0],\n",
              "       [  0,   0,   3,   5,   0,   0,   4,  16,   0,  10,  14,   6,  29,\n",
              "        122, 182, 255, 255, 152,  66,  26,   0,   0,  15,   0,   0,   0,\n",
              "          0,   0],\n",
              "       [  0,   7,   5,   0,   9,  12,   0,   0,   4,   0,  49, 184, 255,\n",
              "        255, 232, 255, 255, 231, 246, 227,  64,   0,   0,   4,   0,   0,\n",
              "          0,   0],\n",
              "       [  2,  15,   0,   0,   6,   0,   0,  13,   6, 148, 241, 255, 248,\n",
              "        236, 194, 151, 192, 253, 252, 244, 231, 121,   5,   6,   0,   0,\n",
              "          0,   0],\n",
              "       [  0,   7,   0,   0,   7,   0,  51, 191, 223, 254, 247, 248, 148,\n",
              "         30,   0,   6,  24,   0,  32, 116, 235, 255, 166,   0,   0,   0,\n",
              "          0,   0],\n",
              "       [  0,   4,   0,   0,  10,   0, 132, 246, 255, 247, 199,  77,   0,\n",
              "          0,   2,   0,   0,   7,   0,   0,  60, 238, 226,  46,   2,   0,\n",
              "          1,   5],\n",
              "       [  0,   0,   4,   0,  14,  59, 203, 255, 255, 201,  45,   1,  15,\n",
              "          0,   0,   1,   0,   4,   2,   0,   0, 137, 246, 169,   7,   0,\n",
              "          0,   4],\n",
              "       [  2,   0,   9,   0,   4, 127, 252, 252, 198,  32,   0,   0,   0,\n",
              "          5,   0,   3,   4,   0,   0,   1,   5,  78, 255, 222,  16,   1,\n",
              "          0,   3],\n",
              "       [  5,   0,   8,   0,   0, 150, 254, 247,  46,   7,   0,   8,   9,\n",
              "          0,   4,   3,   3,   0,   0,   4,   0,  19, 248, 254,  25,   4,\n",
              "          0,   2],\n",
              "       [  0,   1,   2,   0,   1, 150, 246, 255,  17,   9,   0,   4,   0,\n",
              "          0,   9,   0,   0,   0,   0,   6,   0,  46, 254, 255,  30,   5,\n",
              "          0,   2],\n",
              "       [  0,   1,   0,   0,   6, 139, 241, 251,  43,   0,  15,   6,   0,\n",
              "          9,   7,   0,   0,   0,   0,   3,  19, 120, 255, 240,  31,   5,\n",
              "          0,   3],\n",
              "       [  2,   0,   0,   2,   1, 133, 249, 197,   0,  27,   0,   0,  18,\n",
              "          0,   0,   8,   0,   7,   1,   0,   0, 153, 245, 255,  29,   3,\n",
              "          0,   5],\n",
              "       [  6,   0,   0,   4,   0, 142, 255, 156,   1,   0,   4,   0,   0,\n",
              "          6,   0,   0,   0,   3,   0,  10,  45, 245, 255, 250,  26,   2,\n",
              "          0,   6],\n",
              "       [  0,   0,   0,   0,   5, 152, 239,  63,   0,  14,   0,   4,   0,\n",
              "          1,   8,   0,   9,   0,   0,   5, 236, 255, 255, 152,   0,   0,\n",
              "          0,   0],\n",
              "       [  0,   9,  11,   0,   1, 126, 255,  59,   0,   1,   0,   5,   0,\n",
              "          1,   2,   0,   0,   0,  27, 169, 255, 247, 217,  26,   0,   0,\n",
              "          0,   0],\n",
              "       [  0,   0,   2,   0,  25,  97, 248,  83,   7,   0,   6,   0,   1,\n",
              "          0,   0,   0,   5,  47, 171, 255, 243, 255, 148,   0,   0,   0,\n",
              "          0,   0],\n",
              "       [  2,   0,  10,   0,   0,  13, 219, 255,  15,   0,  11,   0,   9,\n",
              "          6,   0,   7,  97, 239, 249, 243, 255, 163,  46,   0,   0,   0,\n",
              "          0,   0],\n",
              "       [ 15,   0,   0,   2,   6,   0, 100, 232, 246, 166, 104,  24,  32,\n",
              "         72, 128, 180, 245, 247, 255, 255, 174,   4,   0,   0,   0,   0,\n",
              "          0,   0],\n",
              "       [  0,   0,   8,   3,   0,   2,  63, 226, 254, 248, 255, 246, 255,\n",
              "        255, 255, 255, 255, 255, 237,  88,  13,  13,   0,  17,   0,   0,\n",
              "          0,   0],\n",
              "       [  0,   2,   0,   0,   0,   0,   0,  18, 199, 235, 250, 255, 255,\n",
              "        255, 255, 242, 255, 169,  43,  18,   0,   0,  11,   0,   0,   0,\n",
              "          0,   0],\n",
              "       [  2,   5,   0,   4,   1,   5,   8,   0,   9, 104, 169, 241, 248,\n",
              "        255, 247, 220,  95,  10,   7,   0,   0,   0,   0,   0,   0,   0,\n",
              "          0,   0],\n",
              "       [  0,   0,   0,   0,   0,   0,   0,   0,   0,   0,   0,   0,   0,\n",
              "          0,   0,   0,   0,   0,   0,   0,   0,   0,   0,   0,   0,   0,\n",
              "          0,   0],\n",
              "       [  0,   0,   0,   0,   0,   0,   0,   0,   0,   0,   0,   0,   0,\n",
              "          0,   0,   0,   0,   0,   0,   0,   0,   0,   0,   0,   0,   0,\n",
              "          0,   0],\n",
              "       [  0,   0,   0,   0,   0,   0,   0,   0,   0,   0,   0,   0,   0,\n",
              "          0,   0,   0,   0,   0,   0,   0,   0,   0,   0,   0,   0,   0,\n",
              "          0,   0],\n",
              "       [  0,   0,   0,   0,   0,   0,   0,   0,   0,   0,   0,   0,   0,\n",
              "          0,   0,   0,   0,   0,   0,   0,   0,   0,   0,   0,   0,   0,\n",
              "          0,   0]], dtype=uint8)</pre></div><script>\n",
              "      (() => {\n",
              "      const titles = ['show data', 'hide data'];\n",
              "      let index = 0\n",
              "      document.querySelector('#id-e9367cb3-7733-44f0-b507-689002bfe005 button').onclick = (e) => {\n",
              "        document.querySelector('#id-e9367cb3-7733-44f0-b507-689002bfe005').classList.toggle('show_array');\n",
              "        index = (++index) % 2;\n",
              "        document.querySelector('#id-e9367cb3-7733-44f0-b507-689002bfe005 button').textContent = titles[index];\n",
              "        e.preventDefault();\n",
              "        e.stopPropagation();\n",
              "      }\n",
              "      })();\n",
              "    </script>"
            ]
          },
          "metadata": {},
          "execution_count": 7
        }
      ]
    },
    {
      "cell_type": "code",
      "source": [
        "img_tensor_0 = torch.tensor(digit_0_array_og, dtype=torch.float32)/ 255.0\n",
        "img_tensor_1 = torch.tensor(digit_1_array_og, dtype=torch.float32)/255.0\n",
        "\n",
        "print(\"Image tensor shape: \",img_tensor_0.shape)\n",
        "print(f\"Min pixel value:{torch.min(img_tensor_0)} ; Max pixel value : {torch.max(img_tensor_0)}\")\n",
        "\n",
        "plt.imshow(img_tensor_0, cmap='gray')\n",
        "plt.show()"
      ],
      "metadata": {
        "colab": {
          "base_uri": "https://localhost:8080/",
          "height": 465
        },
        "id": "kwWmlXScjTiY",
        "outputId": "e23908a7-112d-47f0-fe26-e65523909402"
      },
      "execution_count": 8,
      "outputs": [
        {
          "output_type": "stream",
          "name": "stdout",
          "text": [
            "Image tensor shape:  torch.Size([28, 28, 3])\n",
            "Min pixel value:0.0 ; Max pixel value : 1.0\n"
          ]
        },
        {
          "output_type": "display_data",
          "data": {
            "text/plain": [
              "<Figure size 640x480 with 1 Axes>"
            ],
            "image/png": "[encoded data removed]"
          },
          "metadata": {}
        }
      ]
    },
    {
      "cell_type": "code",
      "source": [
        "batch_tensor = torch.stack([img_tensor_0, img_tensor_1])\n",
        "print(\"Batch tensor shape: \",batch_tensor.shape)"
      ],
      "metadata": {
        "colab": {
          "base_uri": "https://localhost:8080/"
        },
        "id": "v9q8VY1CkBnd",
        "outputId": "ec02d1b8-0219-4f10-e6ca-6826022fbdd6"
      },
      "execution_count": 9,
      "outputs": [
        {
          "output_type": "stream",
          "name": "stdout",
          "text": [
            "Batch tensor shape:  torch.Size([2, 28, 28, 3])\n"
          ]
        }
      ]
    },
    {
      "cell_type": "code",
      "source": [
        "batch_input = batch_tensor.permute(0,3,1,2)\n",
        "print(\"Batch tensor shape: \",batch_input.shape)"
      ],
      "metadata": {
        "colab": {
          "base_uri": "https://localhost:8080/"
        },
        "id": "tvrU8I7UkQym",
        "outputId": "93fcae9f-9848-4a29-b325-042ed54aec89"
      },
      "execution_count": 10,
      "outputs": [
        {
          "output_type": "stream",
          "name": "stdout",
          "text": [
            "Batch tensor shape:  torch.Size([2, 3, 28, 28])\n"
          ]
        }
      ]
    },
    {
      "cell_type": "markdown",
      "source": [
        "# Construct a Tensor"
      ],
      "metadata": {
        "id": "pqrMbPIvklaR"
      }
    },
    {
      "cell_type": "code",
      "source": [
        " a = torch.ones(5)\n",
        " print(a)\n",
        "\n",
        " b = torch.zeros(5)\n",
        " print(b)"
      ],
      "metadata": {
        "colab": {
          "base_uri": "https://localhost:8080/"
        },
        "id": "TMvWIvDskkoy",
        "outputId": "c17d3c74-8a1d-4493-842b-fdceecaa940d"
      },
      "execution_count": 11,
      "outputs": [
        {
          "output_type": "stream",
          "name": "stdout",
          "text": [
            "tensor([1., 1., 1., 1., 1.])\n",
            "tensor([0., 0., 0., 0., 0.])\n"
          ]
        }
      ]
    },
    {
      "cell_type": "code",
      "source": [
        "c = torch.tensor([1.0,2.0,3.0, 4.0, 5.0])\n",
        "print(c)"
      ],
      "metadata": {
        "colab": {
          "base_uri": "https://localhost:8080/"
        },
        "id": "REKMkY7xk8k7",
        "outputId": "8b7f3961-31dd-4d0d-87f1-9dfd5a7769ab"
      },
      "execution_count": 12,
      "outputs": [
        {
          "output_type": "stream",
          "name": "stdout",
          "text": [
            "tensor([1., 2., 3., 4., 5.])\n"
          ]
        }
      ]
    },
    {
      "cell_type": "code",
      "source": [
        "# 2D tensors\n",
        "\n",
        "d = torch.tensor([[1.0,2.0],[3.0,4.0]])\n",
        "print(d)\n",
        "\n",
        "e = torch.ones(2,2)\n",
        "print(e)\n",
        "\n",
        "f = torch.zeros(2,2)\n",
        "print(f)"
      ],
      "metadata": {
        "colab": {
          "base_uri": "https://localhost:8080/"
        },
        "id": "Z6nDQjTElLCT",
        "outputId": "241464eb-9fda-42fe-afd5-72946d0dc74b"
      },
      "execution_count": 13,
      "outputs": [
        {
          "output_type": "stream",
          "name": "stdout",
          "text": [
            "tensor([[1., 2.],\n",
            "        [3., 4.]])\n",
            "tensor([[1., 1.],\n",
            "        [1., 1.]])\n",
            "tensor([[0., 0.],\n",
            "        [0., 0.]])\n"
          ]
        }
      ]
    },
    {
      "cell_type": "code",
      "source": [
        "# 3D tensors\n",
        "\n",
        "g = torch.tensor([[[1.0,2.0],[3.0,4.0]],[[5.0,6.0],[7.0,8.0]]])\n",
        "print(g)\n",
        "\n",
        "h = torch.ones(2,2,2)\n",
        "print(h)"
      ],
      "metadata": {
        "colab": {
          "base_uri": "https://localhost:8080/"
        },
        "id": "VBhQHwT_laNS",
        "outputId": "933feacf-4cb0-4d00-a897-e390ce24a4e1"
      },
      "execution_count": 14,
      "outputs": [
        {
          "output_type": "stream",
          "name": "stdout",
          "text": [
            "tensor([[[1., 2.],\n",
            "         [3., 4.]],\n",
            "\n",
            "        [[5., 6.],\n",
            "         [7., 8.]]])\n",
            "tensor([[[1., 1.],\n",
            "         [1., 1.]],\n",
            "\n",
            "        [[1., 1.],\n",
            "         [1., 1.]]])\n"
          ]
        }
      ]
    },
    {
      "cell_type": "code",
      "source": [
        "print(a.shape)\n",
        "print(d.shape)\n",
        "print(g.shape)"
      ],
      "metadata": {
        "colab": {
          "base_uri": "https://localhost:8080/"
        },
        "id": "ZZC56nlSlkT6",
        "outputId": "8efff13d-84ab-4275-c20c-7b32774ab7d0"
      },
      "execution_count": 15,
      "outputs": [
        {
          "output_type": "stream",
          "name": "stdout",
          "text": [
            "torch.Size([5])\n",
            "torch.Size([2, 2])\n",
            "torch.Size([2, 2, 2])\n"
          ]
        }
      ]
    },
    {
      "cell_type": "markdown",
      "source": [
        "# Access a Element in Tensor"
      ],
      "metadata": {
        "id": "ezeX3HlflxVh"
      }
    },
    {
      "cell_type": "code",
      "source": [
        "print(c[2])\n",
        "print(d[1,1])\n",
        "print(g[1,0,1])"
      ],
      "metadata": {
        "colab": {
          "base_uri": "https://localhost:8080/"
        },
        "id": "hDYCQLNml0-p",
        "outputId": "be1ea5ce-2ee9-4843-e27e-bf5d609d3f18"
      },
      "execution_count": 16,
      "outputs": [
        {
          "output_type": "stream",
          "name": "stdout",
          "text": [
            "tensor(3.)\n",
            "tensor(4.)\n",
            "tensor(6.)\n"
          ]
        }
      ]
    },
    {
      "cell_type": "code",
      "source": [
        "print(c[:])\n",
        "print(d[1,:])\n",
        "print(g[1,:2,:])"
      ],
      "metadata": {
        "colab": {
          "base_uri": "https://localhost:8080/"
        },
        "id": "WotSNQCwmG6e",
        "outputId": "a71f215a-0178-4067-99e2-8e2a7ad89cc6"
      },
      "execution_count": 17,
      "outputs": [
        {
          "output_type": "stream",
          "name": "stdout",
          "text": [
            "tensor([1., 2., 3., 4., 5.])\n",
            "tensor([3., 4.])\n",
            "tensor([[5., 6.],\n",
            "        [7., 8.]])\n"
          ]
        }
      ]
    },
    {
      "cell_type": "markdown",
      "source": [
        "# Specify Data Type of Elements"
      ],
      "metadata": {
        "id": "d_yEjYeMmnYo"
      }
    },
    {
      "cell_type": "code",
      "source": [
        "int_tensor = torch.tensor([[1,2],[3,4]])\n",
        "print(int_tensor)\n",
        "print(int_tensor.dtype)\n",
        "\n",
        "float_tensor = torch.tensor([[1,2],[3,4.]])\n",
        "print(float_tensor)\n",
        "print(float_tensor.dtype)\n",
        "\n",
        "\n",
        "int_tensor= float_tensor.type(torch.int64)\n",
        "print(int_tensor)\n",
        "print(int_tensor.dtype)"
      ],
      "metadata": {
        "colab": {
          "base_uri": "https://localhost:8080/"
        },
        "id": "qYZOoguLmmDh",
        "outputId": "3122142e-fcb1-4e30-ddb2-1d13cf6d0196"
      },
      "execution_count": 18,
      "outputs": [
        {
          "output_type": "stream",
          "name": "stdout",
          "text": [
            "tensor([[1, 2],\n",
            "        [3, 4]])\n",
            "torch.int64\n",
            "tensor([[1., 2.],\n",
            "        [3., 4.]])\n",
            "torch.float32\n",
            "tensor([[1, 2],\n",
            "        [3, 4]])\n",
            "torch.int64\n"
          ]
        }
      ]
    },
    {
      "cell_type": "markdown",
      "source": [
        "# Tensor to/from Numpy Array"
      ],
      "metadata": {
        "id": "02_R1dXjoM1d"
      }
    },
    {
      "cell_type": "code",
      "source": [
        "f_numpy = f.numpy()\n",
        "print(f_numpy)\n",
        "\n",
        "\n",
        "h = np.array([[1.0,2.0],[3.0,4.0]])\n",
        "h_tensor = torch.from_numpy(h)\n",
        "print(h_tensor)"
      ],
      "metadata": {
        "colab": {
          "base_uri": "https://localhost:8080/"
        },
        "id": "sgii_VAVoQR_",
        "outputId": "2036b629-5b97-461c-bc99-b82fc4286e2b"
      },
      "execution_count": 19,
      "outputs": [
        {
          "output_type": "stream",
          "name": "stdout",
          "text": [
            "[[0. 0.]\n",
            " [0. 0.]]\n",
            "tensor([[1., 2.],\n",
            "        [3., 4.]], dtype=torch.float64)\n"
          ]
        }
      ]
    },
    {
      "cell_type": "markdown",
      "source": [
        "# Arithmetic Operations in Tensors"
      ],
      "metadata": {
        "id": "_MP3C13Uoot2"
      }
    },
    {
      "cell_type": "code",
      "source": [
        "tensor1= torch.tensor([[1,2,3],[4,5,6]])\n",
        "tensor2 = torch.tensor([[-1,2,-3],[4, -5, 6]])\n",
        "\n",
        "# Addition\n",
        "print(tensor1 + tensor2)\n",
        "print(torch.add(tensor1,tensor2))\n",
        "\n",
        "# Subtraction\n",
        "print(tensor1 - tensor2)\n",
        "print(torch.sub(tensor1,tensor2))\n",
        "\n",
        "# Multiplication\n",
        "print(tensor1 * tensor2)\n",
        "print(torch.mul(tensor1,tensor2))\n",
        "\n",
        "# Scaler Multiplication\n",
        "print(tensor1 * 2)\n",
        "\n",
        "# Elementwise Multiplication\n",
        "print(tensor1 * tensor2)\n",
        "\n",
        "# Matrix Multiplication\n",
        "tensor3= torch.tensor([[1,2],[3,4],[5,6]])\n",
        "print(torch.matmul(tensor1,tensor3))\n",
        "\n",
        "# Division by scale\n",
        "print(tensor1 / 2)\n",
        "\n",
        "# Elementwise Division\n",
        "print(tensor1 / tensor2)\n"
      ],
      "metadata": {
        "colab": {
          "base_uri": "https://localhost:8080/"
        },
        "id": "3uPlvlZGotR4",
        "outputId": "87b71666-1069-4888-c74e-c4ab4955ef92"
      },
      "execution_count": 20,
      "outputs": [
        {
          "output_type": "stream",
          "name": "stdout",
          "text": [
            "tensor([[ 0,  4,  0],\n",
            "        [ 8,  0, 12]])\n",
            "tensor([[ 0,  4,  0],\n",
            "        [ 8,  0, 12]])\n",
            "tensor([[ 2,  0,  6],\n",
            "        [ 0, 10,  0]])\n",
            "tensor([[ 2,  0,  6],\n",
            "        [ 0, 10,  0]])\n",
            "tensor([[ -1,   4,  -9],\n",
            "        [ 16, -25,  36]])\n",
            "tensor([[ -1,   4,  -9],\n",
            "        [ 16, -25,  36]])\n",
            "tensor([[ 2,  4,  6],\n",
            "        [ 8, 10, 12]])\n",
            "tensor([[ -1,   4,  -9],\n",
            "        [ 16, -25,  36]])\n",
            "tensor([[22, 28],\n",
            "        [49, 64]])\n",
            "tensor([[0.5000, 1.0000, 1.5000],\n",
            "        [2.0000, 2.5000, 3.0000]])\n",
            "tensor([[-1.,  1., -1.],\n",
            "        [ 1., -1.,  1.]])\n"
          ]
        }
      ]
    },
    {
      "cell_type": "markdown",
      "source": [
        "# Broadcasting"
      ],
      "metadata": {
        "id": "3KssnpsvqP0F"
      }
    },
    {
      "cell_type": "code",
      "source": [
        " a = torch.tensor([1,2,3])\n",
        " b = torch.tensor([4])\n",
        "\n",
        " print(a + b)"
      ],
      "metadata": {
        "colab": {
          "base_uri": "https://localhost:8080/"
        },
        "id": "2-Xdm5p1qVXY",
        "outputId": "6c07b10b-d574-4737-ae29-c1505e50a7b7"
      },
      "execution_count": 21,
      "outputs": [
        {
          "output_type": "stream",
          "name": "stdout",
          "text": [
            "tensor([5, 6, 7])\n"
          ]
        }
      ]
    },
    {
      "cell_type": "code",
      "source": [
        "a = torch.tensor([1,2,3])\n",
        "b = torch.tensor([[4],[5],[6]])\n",
        "\n",
        "print(a + b)"
      ],
      "metadata": {
        "colab": {
          "base_uri": "https://localhost:8080/"
        },
        "id": "L6BIVFvaqmIr",
        "outputId": "893daa32-3750-4c28-e494-8f0cd61ea97f"
      },
      "execution_count": 22,
      "outputs": [
        {
          "output_type": "stream",
          "name": "stdout",
          "text": [
            "tensor([[5, 6, 7],\n",
            "        [6, 7, 8],\n",
            "        [7, 8, 9]])\n"
          ]
        }
      ]
    },
    {
      "cell_type": "markdown",
      "source": [
        "# CPU v/s GPU Tensor"
      ],
      "metadata": {
        "id": "9rbbo3u_q4UL"
      }
    },
    {
      "cell_type": "code",
      "source": [
        "tensor_cpu = torch.tensor([[1.0,2.0],[3.0,4.0]], device='cpu')\n",
        "print(tensor_cpu)\n",
        "\n",
        "tensor_gpu = torch.tensor([[1.0,2.0],[3.0,4.0]], device='cuda')\n",
        "print(tensor_gpu)"
      ],
      "metadata": {
        "colab": {
          "base_uri": "https://localhost:8080/"
        },
        "id": "rU9wsa_gq7nK",
        "outputId": "709a9a0c-0fa0-48c6-9655-76d1ae5f7dfd"
      },
      "execution_count": 23,
      "outputs": [
        {
          "output_type": "stream",
          "name": "stdout",
          "text": [
            "tensor([[1., 2.],\n",
            "        [3., 4.]])\n",
            "tensor([[1., 2.],\n",
            "        [3., 4.]], device='cuda:0')\n"
          ]
        }
      ]
    },
    {
      "cell_type": "code",
      "source": [
        "tensor_gpu_cpu = tensor_gpu.to(device='cpu')\n",
        "print(tensor_gpu_cpu)\n",
        "\n",
        "tensor_cpu_gpu = tensor_cpu.to(device='cuda')\n",
        "print(tensor_cpu_gpu)"
      ],
      "metadata": {
        "colab": {
          "base_uri": "https://localhost:8080/"
        },
        "id": "iyR0R33Lrfx4",
        "outputId": "7a35f9d9-e2c1-4e62-ec7c-8536d4ae1a0f"
      },
      "execution_count": 24,
      "outputs": [
        {
          "output_type": "stream",
          "name": "stdout",
          "text": [
            "tensor([[1., 2.],\n",
            "        [3., 4.]])\n",
            "tensor([[1., 2.],\n",
            "        [3., 4.]], device='cuda:0')\n"
          ]
        }
      ]
    }
  ]
}